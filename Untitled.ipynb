{
 "cells": [
  {
   "cell_type": "code",
   "execution_count": 1,
   "id": "1a5ab73d",
   "metadata": {},
   "outputs": [
    {
     "name": "stdout",
     "output_type": "stream",
     "text": [
      "Collecting yfinance\n",
      "  Downloading yfinance-0.1.87-py2.py3-none-any.whl (29 kB)\n",
      "Requirement already satisfied: requests>=2.26 in c:\\users\\lacaze london 1\\anaconda3\\lib\\site-packages (from yfinance) (2.28.1)\n",
      "Collecting multitasking>=0.0.7\n",
      "  Downloading multitasking-0.0.11-py3-none-any.whl (8.5 kB)\n",
      "Requirement already satisfied: appdirs>=1.4.4 in c:\\users\\lacaze london 1\\anaconda3\\lib\\site-packages (from yfinance) (1.4.4)\n",
      "Requirement already satisfied: lxml>=4.5.1 in c:\\users\\lacaze london 1\\anaconda3\\lib\\site-packages (from yfinance) (4.9.1)\n",
      "Requirement already satisfied: pandas>=0.24.0 in c:\\users\\lacaze london 1\\anaconda3\\lib\\site-packages (from yfinance) (1.4.4)\n",
      "Requirement already satisfied: numpy>=1.15 in c:\\users\\lacaze london 1\\anaconda3\\lib\\site-packages (from yfinance) (1.21.5)\n",
      "Requirement already satisfied: python-dateutil>=2.8.1 in c:\\users\\lacaze london 1\\anaconda3\\lib\\site-packages (from pandas>=0.24.0->yfinance) (2.8.2)\n",
      "Requirement already satisfied: pytz>=2020.1 in c:\\users\\lacaze london 1\\anaconda3\\lib\\site-packages (from pandas>=0.24.0->yfinance) (2022.1)\n",
      "Requirement already satisfied: charset-normalizer<3,>=2 in c:\\users\\lacaze london 1\\anaconda3\\lib\\site-packages (from requests>=2.26->yfinance) (2.0.4)\n",
      "Requirement already satisfied: certifi>=2017.4.17 in c:\\users\\lacaze london 1\\anaconda3\\lib\\site-packages (from requests>=2.26->yfinance) (2022.9.14)\n",
      "Requirement already satisfied: idna<4,>=2.5 in c:\\users\\lacaze london 1\\anaconda3\\lib\\site-packages (from requests>=2.26->yfinance) (3.3)\n",
      "Requirement already satisfied: urllib3<1.27,>=1.21.1 in c:\\users\\lacaze london 1\\anaconda3\\lib\\site-packages (from requests>=2.26->yfinance) (1.26.11)\n",
      "Requirement already satisfied: six>=1.5 in c:\\users\\lacaze london 1\\anaconda3\\lib\\site-packages (from python-dateutil>=2.8.1->pandas>=0.24.0->yfinance) (1.16.0)\n",
      "Installing collected packages: multitasking, yfinance\n",
      "Successfully installed multitasking-0.0.11 yfinance-0.1.87\n",
      "Note: you may need to restart the kernel to use updated packages.\n"
     ]
    }
   ],
   "source": [
    "pip install yfinance"
   ]
  },
  {
   "cell_type": "code",
   "execution_count": 2,
   "id": "7b49597b",
   "metadata": {},
   "outputs": [],
   "source": [
    "import yfinance as yf\n",
    "import numpy as np\n",
    "import pandas as pd\n",
    "import matplotlib as mpl"
   ]
  },
  {
   "cell_type": "code",
   "execution_count": 3,
   "id": "fe9740a4",
   "metadata": {},
   "outputs": [
    {
     "name": "stdout",
     "output_type": "stream",
     "text": [
      "[*********************100%***********************]  8 of 8 completed\n",
      "\n",
      "1 Failed download:\n",
      "- FB: No data found for this date range, symbol may be delisted\n"
     ]
    }
   ],
   "source": [
    "initial_data = yf.download(\"AAPL AMZN FB GOOG MSFT TSLA SPY ^VIX\", start=\"2021-03-01\", end=\"2022-03-01\")"
   ]
  },
  {
   "cell_type": "code",
   "execution_count": 4,
   "id": "758d62c0",
   "metadata": {},
   "outputs": [
    {
     "data": {
      "text/html": [
       "<div>\n",
       "<style scoped>\n",
       "    .dataframe tbody tr th:only-of-type {\n",
       "        vertical-align: middle;\n",
       "    }\n",
       "\n",
       "    .dataframe tbody tr th {\n",
       "        vertical-align: top;\n",
       "    }\n",
       "\n",
       "    .dataframe thead tr th {\n",
       "        text-align: left;\n",
       "    }\n",
       "\n",
       "    .dataframe thead tr:last-of-type th {\n",
       "        text-align: right;\n",
       "    }\n",
       "</style>\n",
       "<table border=\"1\" class=\"dataframe\">\n",
       "  <thead>\n",
       "    <tr>\n",
       "      <th></th>\n",
       "      <th colspan=\"8\" halign=\"left\">Adj Close</th>\n",
       "      <th colspan=\"2\" halign=\"left\">Close</th>\n",
       "      <th>...</th>\n",
       "      <th colspan=\"2\" halign=\"left\">Open</th>\n",
       "      <th colspan=\"8\" halign=\"left\">Volume</th>\n",
       "    </tr>\n",
       "    <tr>\n",
       "      <th></th>\n",
       "      <th>AAPL</th>\n",
       "      <th>AMZN</th>\n",
       "      <th>FB</th>\n",
       "      <th>GOOG</th>\n",
       "      <th>MSFT</th>\n",
       "      <th>SPY</th>\n",
       "      <th>TSLA</th>\n",
       "      <th>^VIX</th>\n",
       "      <th>AAPL</th>\n",
       "      <th>AMZN</th>\n",
       "      <th>...</th>\n",
       "      <th>TSLA</th>\n",
       "      <th>^VIX</th>\n",
       "      <th>AAPL</th>\n",
       "      <th>AMZN</th>\n",
       "      <th>FB</th>\n",
       "      <th>GOOG</th>\n",
       "      <th>MSFT</th>\n",
       "      <th>SPY</th>\n",
       "      <th>TSLA</th>\n",
       "      <th>^VIX</th>\n",
       "    </tr>\n",
       "    <tr>\n",
       "      <th>Date</th>\n",
       "      <th></th>\n",
       "      <th></th>\n",
       "      <th></th>\n",
       "      <th></th>\n",
       "      <th></th>\n",
       "      <th></th>\n",
       "      <th></th>\n",
       "      <th></th>\n",
       "      <th></th>\n",
       "      <th></th>\n",
       "      <th></th>\n",
       "      <th></th>\n",
       "      <th></th>\n",
       "      <th></th>\n",
       "      <th></th>\n",
       "      <th></th>\n",
       "      <th></th>\n",
       "      <th></th>\n",
       "      <th></th>\n",
       "      <th></th>\n",
       "      <th></th>\n",
       "    </tr>\n",
       "  </thead>\n",
       "  <tbody>\n",
       "    <tr>\n",
       "      <th>2021-03-01 00:00:00</th>\n",
       "      <td>126.462868</td>\n",
       "      <td>157.307007</td>\n",
       "      <td>NaN</td>\n",
       "      <td>104.075500</td>\n",
       "      <td>233.325302</td>\n",
       "      <td>380.054962</td>\n",
       "      <td>239.476669</td>\n",
       "      <td>23.35</td>\n",
       "      <td>127.790001</td>\n",
       "      <td>157.307007</td>\n",
       "      <td>...</td>\n",
       "      <td>230.036667</td>\n",
       "      <td>25.200001</td>\n",
       "      <td>116307900</td>\n",
       "      <td>54582000</td>\n",
       "      <td>NaN</td>\n",
       "      <td>28090000</td>\n",
       "      <td>25324000</td>\n",
       "      <td>105348800</td>\n",
       "      <td>81408600</td>\n",
       "      <td>0</td>\n",
       "    </tr>\n",
       "    <tr>\n",
       "      <th>2021-03-02 00:00:00</th>\n",
       "      <td>123.820587</td>\n",
       "      <td>154.726501</td>\n",
       "      <td>NaN</td>\n",
       "      <td>103.792000</td>\n",
       "      <td>230.302124</td>\n",
       "      <td>377.089264</td>\n",
       "      <td>228.813339</td>\n",
       "      <td>24.10</td>\n",
       "      <td>125.120003</td>\n",
       "      <td>154.726501</td>\n",
       "      <td>...</td>\n",
       "      <td>239.426666</td>\n",
       "      <td>23.580000</td>\n",
       "      <td>102260900</td>\n",
       "      <td>51916000</td>\n",
       "      <td>NaN</td>\n",
       "      <td>22692000</td>\n",
       "      <td>22812500</td>\n",
       "      <td>79595300</td>\n",
       "      <td>71196600</td>\n",
       "      <td>0</td>\n",
       "    </tr>\n",
       "    <tr>\n",
       "      <th>2021-03-03 00:00:00</th>\n",
       "      <td>120.792366</td>\n",
       "      <td>150.250000</td>\n",
       "      <td>NaN</td>\n",
       "      <td>101.335503</td>\n",
       "      <td>224.088394</td>\n",
       "      <td>372.094482</td>\n",
       "      <td>217.733337</td>\n",
       "      <td>26.67</td>\n",
       "      <td>122.059998</td>\n",
       "      <td>150.250000</td>\n",
       "      <td>...</td>\n",
       "      <td>229.330002</td>\n",
       "      <td>22.799999</td>\n",
       "      <td>112966300</td>\n",
       "      <td>79774000</td>\n",
       "      <td>NaN</td>\n",
       "      <td>29684000</td>\n",
       "      <td>34029500</td>\n",
       "      <td>119940200</td>\n",
       "      <td>90624000</td>\n",
       "      <td>0</td>\n",
       "    </tr>\n",
       "    <tr>\n",
       "      <th>2021-03-04 00:00:00</th>\n",
       "      <td>118.882408</td>\n",
       "      <td>148.878494</td>\n",
       "      <td>NaN</td>\n",
       "      <td>102.454498</td>\n",
       "      <td>223.271042</td>\n",
       "      <td>367.489838</td>\n",
       "      <td>207.146667</td>\n",
       "      <td>28.57</td>\n",
       "      <td>120.129997</td>\n",
       "      <td>148.878494</td>\n",
       "      <td>...</td>\n",
       "      <td>218.600006</td>\n",
       "      <td>26.520000</td>\n",
       "      <td>178155000</td>\n",
       "      <td>109632000</td>\n",
       "      <td>NaN</td>\n",
       "      <td>42360000</td>\n",
       "      <td>44727800</td>\n",
       "      <td>183433000</td>\n",
       "      <td>197758500</td>\n",
       "      <td>0</td>\n",
       "    </tr>\n",
       "    <tr>\n",
       "      <th>2021-03-05 00:00:00</th>\n",
       "      <td>120.158997</td>\n",
       "      <td>150.022995</td>\n",
       "      <td>NaN</td>\n",
       "      <td>105.427002</td>\n",
       "      <td>228.066742</td>\n",
       "      <td>374.250427</td>\n",
       "      <td>199.316666</td>\n",
       "      <td>24.66</td>\n",
       "      <td>121.419998</td>\n",
       "      <td>150.022995</td>\n",
       "      <td>...</td>\n",
       "      <td>208.686661</td>\n",
       "      <td>29.480000</td>\n",
       "      <td>153766600</td>\n",
       "      <td>107772000</td>\n",
       "      <td>NaN</td>\n",
       "      <td>43904000</td>\n",
       "      <td>41872800</td>\n",
       "      <td>152039600</td>\n",
       "      <td>268189500</td>\n",
       "      <td>0</td>\n",
       "    </tr>\n",
       "  </tbody>\n",
       "</table>\n",
       "<p>5 rows × 48 columns</p>\n",
       "</div>"
      ],
      "text/plain": [
       "                      Adj Close                                          \\\n",
       "                           AAPL        AMZN  FB        GOOG        MSFT   \n",
       "Date                                                                      \n",
       "2021-03-01 00:00:00  126.462868  157.307007 NaN  104.075500  233.325302   \n",
       "2021-03-02 00:00:00  123.820587  154.726501 NaN  103.792000  230.302124   \n",
       "2021-03-03 00:00:00  120.792366  150.250000 NaN  101.335503  224.088394   \n",
       "2021-03-04 00:00:00  118.882408  148.878494 NaN  102.454498  223.271042   \n",
       "2021-03-05 00:00:00  120.158997  150.022995 NaN  105.427002  228.066742   \n",
       "\n",
       "                                                         Close              \\\n",
       "                            SPY        TSLA   ^VIX        AAPL        AMZN   \n",
       "Date                                                                         \n",
       "2021-03-01 00:00:00  380.054962  239.476669  23.35  127.790001  157.307007   \n",
       "2021-03-02 00:00:00  377.089264  228.813339  24.10  125.120003  154.726501   \n",
       "2021-03-03 00:00:00  372.094482  217.733337  26.67  122.059998  150.250000   \n",
       "2021-03-04 00:00:00  367.489838  207.146667  28.57  120.129997  148.878494   \n",
       "2021-03-05 00:00:00  374.250427  199.316666  24.66  121.419998  150.022995   \n",
       "\n",
       "                     ...        Open                Volume                 \\\n",
       "                     ...        TSLA       ^VIX       AAPL       AMZN  FB   \n",
       "Date                 ...                                                    \n",
       "2021-03-01 00:00:00  ...  230.036667  25.200001  116307900   54582000 NaN   \n",
       "2021-03-02 00:00:00  ...  239.426666  23.580000  102260900   51916000 NaN   \n",
       "2021-03-03 00:00:00  ...  229.330002  22.799999  112966300   79774000 NaN   \n",
       "2021-03-04 00:00:00  ...  218.600006  26.520000  178155000  109632000 NaN   \n",
       "2021-03-05 00:00:00  ...  208.686661  29.480000  153766600  107772000 NaN   \n",
       "\n",
       "                                                                    \n",
       "                         GOOG      MSFT        SPY       TSLA ^VIX  \n",
       "Date                                                                \n",
       "2021-03-01 00:00:00  28090000  25324000  105348800   81408600    0  \n",
       "2021-03-02 00:00:00  22692000  22812500   79595300   71196600    0  \n",
       "2021-03-03 00:00:00  29684000  34029500  119940200   90624000    0  \n",
       "2021-03-04 00:00:00  42360000  44727800  183433000  197758500    0  \n",
       "2021-03-05 00:00:00  43904000  41872800  152039600  268189500    0  \n",
       "\n",
       "[5 rows x 48 columns]"
      ]
     },
     "execution_count": 4,
     "metadata": {},
     "output_type": "execute_result"
    }
   ],
   "source": [
    "initial_data.head()"
   ]
  },
  {
   "cell_type": "code",
   "execution_count": 5,
   "id": "e0e23e70",
   "metadata": {},
   "outputs": [
    {
     "name": "stdout",
     "output_type": "stream",
     "text": [
      "[*********************100%***********************]  1 of 1 completed\n"
     ]
    }
   ],
   "source": [
    "data = yf.download(\"XTZ-USD\", start=\"2020-11-28\", end=\"2022-11-28\")"
   ]
  },
  {
   "cell_type": "code",
   "execution_count": 10,
   "id": "e9269423",
   "metadata": {},
   "outputs": [
    {
     "data": {
      "text/html": [
       "<div>\n",
       "<style scoped>\n",
       "    .dataframe tbody tr th:only-of-type {\n",
       "        vertical-align: middle;\n",
       "    }\n",
       "\n",
       "    .dataframe tbody tr th {\n",
       "        vertical-align: top;\n",
       "    }\n",
       "\n",
       "    .dataframe thead th {\n",
       "        text-align: right;\n",
       "    }\n",
       "</style>\n",
       "<table border=\"1\" class=\"dataframe\">\n",
       "  <thead>\n",
       "    <tr style=\"text-align: right;\">\n",
       "      <th></th>\n",
       "      <th>Open</th>\n",
       "      <th>High</th>\n",
       "      <th>Low</th>\n",
       "      <th>Close</th>\n",
       "      <th>Adj Close</th>\n",
       "      <th>Volume</th>\n",
       "    </tr>\n",
       "    <tr>\n",
       "      <th>Date</th>\n",
       "      <th></th>\n",
       "      <th></th>\n",
       "      <th></th>\n",
       "      <th></th>\n",
       "      <th></th>\n",
       "      <th></th>\n",
       "    </tr>\n",
       "  </thead>\n",
       "  <tbody>\n",
       "    <tr>\n",
       "      <th>2022-08-28</th>\n",
       "      <td>1.463614</td>\n",
       "      <td>1.492386</td>\n",
       "      <td>1.426832</td>\n",
       "      <td>1.426832</td>\n",
       "      <td>1.426832</td>\n",
       "      <td>25606743</td>\n",
       "    </tr>\n",
       "    <tr>\n",
       "      <th>2022-08-29</th>\n",
       "      <td>1.427100</td>\n",
       "      <td>1.533695</td>\n",
       "      <td>1.421347</td>\n",
       "      <td>1.531238</td>\n",
       "      <td>1.531238</td>\n",
       "      <td>29754485</td>\n",
       "    </tr>\n",
       "    <tr>\n",
       "      <th>2022-08-30</th>\n",
       "      <td>1.531240</td>\n",
       "      <td>1.548443</td>\n",
       "      <td>1.453881</td>\n",
       "      <td>1.495915</td>\n",
       "      <td>1.495915</td>\n",
       "      <td>28254774</td>\n",
       "    </tr>\n",
       "    <tr>\n",
       "      <th>2022-08-31</th>\n",
       "      <td>1.496149</td>\n",
       "      <td>1.576492</td>\n",
       "      <td>1.496149</td>\n",
       "      <td>1.513333</td>\n",
       "      <td>1.513333</td>\n",
       "      <td>30874398</td>\n",
       "    </tr>\n",
       "    <tr>\n",
       "      <th>2022-09-01</th>\n",
       "      <td>1.513669</td>\n",
       "      <td>1.538975</td>\n",
       "      <td>1.481094</td>\n",
       "      <td>1.538703</td>\n",
       "      <td>1.538703</td>\n",
       "      <td>24786763</td>\n",
       "    </tr>\n",
       "  </tbody>\n",
       "</table>\n",
       "</div>"
      ],
      "text/plain": [
       "                Open      High       Low     Close  Adj Close    Volume\n",
       "Date                                                                   \n",
       "2022-08-28  1.463614  1.492386  1.426832  1.426832   1.426832  25606743\n",
       "2022-08-29  1.427100  1.533695  1.421347  1.531238   1.531238  29754485\n",
       "2022-08-30  1.531240  1.548443  1.453881  1.495915   1.495915  28254774\n",
       "2022-08-31  1.496149  1.576492  1.496149  1.513333   1.513333  30874398\n",
       "2022-09-01  1.513669  1.538975  1.481094  1.538703   1.538703  24786763"
      ]
     },
     "execution_count": 10,
     "metadata": {},
     "output_type": "execute_result"
    }
   ],
   "source": [
    "data.head()"
   ]
  },
  {
   "cell_type": "code",
   "execution_count": 11,
   "id": "2e31cdc9",
   "metadata": {},
   "outputs": [
    {
     "data": {
      "text/html": [
       "<div>\n",
       "<style scoped>\n",
       "    .dataframe tbody tr th:only-of-type {\n",
       "        vertical-align: middle;\n",
       "    }\n",
       "\n",
       "    .dataframe tbody tr th {\n",
       "        vertical-align: top;\n",
       "    }\n",
       "\n",
       "    .dataframe thead th {\n",
       "        text-align: right;\n",
       "    }\n",
       "</style>\n",
       "<table border=\"1\" class=\"dataframe\">\n",
       "  <thead>\n",
       "    <tr style=\"text-align: right;\">\n",
       "      <th></th>\n",
       "      <th>Open</th>\n",
       "      <th>High</th>\n",
       "      <th>Low</th>\n",
       "      <th>Close</th>\n",
       "      <th>Adj Close</th>\n",
       "      <th>Volume</th>\n",
       "    </tr>\n",
       "    <tr>\n",
       "      <th>Date</th>\n",
       "      <th></th>\n",
       "      <th></th>\n",
       "      <th></th>\n",
       "      <th></th>\n",
       "      <th></th>\n",
       "      <th></th>\n",
       "    </tr>\n",
       "  </thead>\n",
       "  <tbody>\n",
       "    <tr>\n",
       "      <th>2022-11-23</th>\n",
       "      <td>0.966857</td>\n",
       "      <td>1.001512</td>\n",
       "      <td>0.965235</td>\n",
       "      <td>1.000509</td>\n",
       "      <td>1.000509</td>\n",
       "      <td>19652635</td>\n",
       "    </tr>\n",
       "    <tr>\n",
       "      <th>2022-11-24</th>\n",
       "      <td>1.000691</td>\n",
       "      <td>1.016853</td>\n",
       "      <td>0.993055</td>\n",
       "      <td>1.005854</td>\n",
       "      <td>1.005854</td>\n",
       "      <td>21553664</td>\n",
       "    </tr>\n",
       "    <tr>\n",
       "      <th>2022-11-25</th>\n",
       "      <td>1.005922</td>\n",
       "      <td>1.006645</td>\n",
       "      <td>0.977130</td>\n",
       "      <td>0.988234</td>\n",
       "      <td>0.988234</td>\n",
       "      <td>14940805</td>\n",
       "    </tr>\n",
       "    <tr>\n",
       "      <th>2022-11-26</th>\n",
       "      <td>0.988163</td>\n",
       "      <td>1.010467</td>\n",
       "      <td>0.980543</td>\n",
       "      <td>0.986488</td>\n",
       "      <td>0.986488</td>\n",
       "      <td>25567280</td>\n",
       "    </tr>\n",
       "    <tr>\n",
       "      <th>2022-11-27</th>\n",
       "      <td>0.986553</td>\n",
       "      <td>1.010601</td>\n",
       "      <td>0.982201</td>\n",
       "      <td>0.990803</td>\n",
       "      <td>0.990803</td>\n",
       "      <td>13301502</td>\n",
       "    </tr>\n",
       "  </tbody>\n",
       "</table>\n",
       "</div>"
      ],
      "text/plain": [
       "                Open      High       Low     Close  Adj Close    Volume\n",
       "Date                                                                   \n",
       "2022-11-23  0.966857  1.001512  0.965235  1.000509   1.000509  19652635\n",
       "2022-11-24  1.000691  1.016853  0.993055  1.005854   1.005854  21553664\n",
       "2022-11-25  1.005922  1.006645  0.977130  0.988234   0.988234  14940805\n",
       "2022-11-26  0.988163  1.010467  0.980543  0.986488   0.986488  25567280\n",
       "2022-11-27  0.986553  1.010601  0.982201  0.990803   0.990803  13301502"
      ]
     },
     "execution_count": 11,
     "metadata": {},
     "output_type": "execute_result"
    }
   ],
   "source": [
    "data.tail()"
   ]
  },
  {
   "cell_type": "code",
   "execution_count": 13,
   "id": "443ca9c7",
   "metadata": {},
   "outputs": [
    {
     "data": {
      "text/plain": [
       "[0.07317329724940835,\n",
       " -0.02306820070603595,\n",
       " 0.011643647581073495,\n",
       " 0.016764322467929083,\n",
       " -0.03198470417683382]"
      ]
     },
     "execution_count": 13,
     "metadata": {},
     "output_type": "execute_result"
    }
   ],
   "source": [
    "import numpy as np\n",
    "normal_return = []\n",
    "for i in range(0,len(data)-1):\n",
    "    adjclose_yesterday = data.iloc[i]['Adj Close']\n",
    "    adjclose_today = data.iloc[i+1]['Adj Close']\n",
    "    x = (adjclose_today - adjclose_yesterday) / adjclose_yesterday\n",
    "    normal_return.append(x)\n",
    "normal_return[:5]"
   ]
  },
  {
   "cell_type": "code",
   "execution_count": 14,
   "id": "bc12bb46",
   "metadata": {},
   "outputs": [
    {
     "data": {
      "text/plain": [
       "[0.0706199578298627,\n",
       " -0.023338435625704913,\n",
       " 0.011576381957868226,\n",
       " 0.01662535222472292,\n",
       " -0.032507390360188994]"
      ]
     },
     "execution_count": 14,
     "metadata": {},
     "output_type": "execute_result"
    }
   ],
   "source": [
    "log_return = []\n",
    "for i in range(0,len(data)-1):\n",
    "    adjclose_yesterday = data.iloc[i]['Adj Close']\n",
    "    adjclose_today = data.iloc[i+1]['Adj Close']\n",
    "    y = np.log(adjclose_today / adjclose_yesterday)\n",
    "    log_return.append(y)\n",
    "log_return[:5]"
   ]
  },
  {
   "cell_type": "code",
   "execution_count": 15,
   "id": "bc058b0f",
   "metadata": {},
   "outputs": [
    {
     "name": "stdout",
     "output_type": "stream",
     "text": [
      "[*********************100%***********************]  1 of 1 completed\n"
     ]
    }
   ],
   "source": [
    "data = yf.download(\"XTZ-USD\", start=\"2022-08-28\", end=\"2022-11-28\")"
   ]
  },
  {
   "cell_type": "code",
   "execution_count": 17,
   "id": "f6a335cf",
   "metadata": {},
   "outputs": [
    {
     "name": "stdout",
     "output_type": "stream",
     "text": [
      "The annulized normal return is -1.20479741 and its annulized volatility is 0.71121549\n"
     ]
    }
   ],
   "source": [
    "datanr = pd.DataFrame(normal_return, columns = ['normal']) \n",
    "nr = datanr.mean() * 365\n",
    "nv = datanr.std() * (365 ** 0.5)\n",
    "print('The annulized normal return is %.8f and its annulized volatility is %.8f' % (nr,nv))"
   ]
  },
  {
   "cell_type": "code",
   "execution_count": 18,
   "id": "2d6b6695",
   "metadata": {},
   "outputs": [
    {
     "name": "stdout",
     "output_type": "stream",
     "text": [
      "The annulized log return is -1.46279215 and its annulized volatility is 0.72287324\n"
     ]
    }
   ],
   "source": [
    "datalr = pd.DataFrame(log_return, columns = ['log']) \n",
    "lr = datalr.mean() * 365\n",
    "lv = datalr.std() * (365 ** 0.5)\n",
    "print('The annulized log return is %.8f and its annulized volatility is %.8f' % (lr,lv))"
   ]
  },
  {
   "cell_type": "code",
   "execution_count": 23,
   "id": "b140febb",
   "metadata": {},
   "outputs": [],
   "source": [
    "import numpy as np\n",
    "import os"
   ]
  },
  {
   "cell_type": "code",
   "execution_count": 34,
   "id": "37f18920",
   "metadata": {},
   "outputs": [],
   "source": [
    "S0 = 1.02              # spot stock price\n",
    "K = 1.02               # strike\n",
    "T = 0.25                 # maturity \n",
    "r = 0.03                 # risk free rate \n",
    "sig = 0.7               # diffusion coefficient or volatility\n",
    "N = 3                   # number of periods or number of time steps  \n",
    "payoff = \"put\"          # payoff "
   ]
  },
  {
   "cell_type": "code",
   "execution_count": 35,
   "id": "d27c69f4",
   "metadata": {},
   "outputs": [],
   "source": [
    "dT = float(T) / N                             # Delta t\n",
    "u = np.exp(sig * np.sqrt(dT))                 # up factor\n",
    "d = 1.0 / u                                   # down factor "
   ]
  },
  {
   "cell_type": "code",
   "execution_count": 36,
   "id": "b3052caf",
   "metadata": {},
   "outputs": [],
   "source": [
    "S = np.zeros((N + 1, N + 1))\n",
    "S[0, 0] = S0\n",
    "z = 1\n",
    "for t in range(1, N + 1):\n",
    "    for i in range(z):\n",
    "        S[i, t] = S[i, t-1] * u\n",
    "        S[i+1, t] = S[i, t-1] * d\n",
    "    z += 1"
   ]
  },
  {
   "cell_type": "code",
   "execution_count": 37,
   "id": "7cc9be4c",
   "metadata": {},
   "outputs": [
    {
     "data": {
      "text/plain": [
       "array([[1.02      , 1.24841559, 1.52798186, 1.87015331],\n",
       "       [0.        , 0.83337633, 1.02      , 1.24841559],\n",
       "       [0.        , 0.        , 0.68089814, 0.83337633],\n",
       "       [0.        , 0.        , 0.        , 0.55631803]])"
      ]
     },
     "execution_count": 37,
     "metadata": {},
     "output_type": "execute_result"
    }
   ],
   "source": [
    "S"
   ]
  },
  {
   "cell_type": "code",
   "execution_count": 38,
   "id": "11b50274",
   "metadata": {},
   "outputs": [
    {
     "data": {
      "text/plain": [
       "0.4558047378111685"
      ]
     },
     "execution_count": 38,
     "metadata": {},
     "output_type": "execute_result"
    }
   ],
   "source": [
    "a = np.exp(r * dT)    # risk free compound return\n",
    "p = (a - d)/ (u - d)  # risk neutral up probability\n",
    "q = 1.0 - p           # risk neutral down probability\n",
    "p"
   ]
  },
  {
   "cell_type": "code",
   "execution_count": 39,
   "id": "f9dd999f",
   "metadata": {},
   "outputs": [
    {
     "data": {
      "text/plain": [
       "array([[0.        , 0.        , 0.        , 0.        ],\n",
       "       [0.        , 0.        , 0.        , 0.        ],\n",
       "       [0.        , 0.        , 0.        , 0.18662367],\n",
       "       [0.        , 0.        , 0.        , 0.46368197]])"
      ]
     },
     "execution_count": 39,
     "metadata": {},
     "output_type": "execute_result"
    }
   ],
   "source": [
    "S_T = S[:,-1]\n",
    "V = np.zeros((N + 1, N + 1))\n",
    "if payoff ==\"call\":\n",
    "    V[:,-1] = np.maximum(S_T-K, 0.0)\n",
    "elif payoff ==\"put\":\n",
    "    V[:,-1] = np.maximum(K-S_T, 0.0)\n",
    "V"
   ]
  },
  {
   "cell_type": "code",
   "execution_count": 40,
   "id": "cd045d5f",
   "metadata": {},
   "outputs": [
    {
     "data": {
      "text/plain": [
       "array([[0.14917982, 0.05499267, 0.        , 0.        ],\n",
       "       [0.        , 0.22875488, 0.10130614, 0.        ],\n",
       "       [0.        , 0.        , 0.33655505, 0.18662367],\n",
       "       [0.        , 0.        , 0.        , 0.46368197]])"
      ]
     },
     "execution_count": 40,
     "metadata": {},
     "output_type": "execute_result"
    }
   ],
   "source": [
    "# for European Option\n",
    "for j in range(N-1, -1, -1):\n",
    "    for i in range(j+1):\n",
    "        V[i,j] = np.exp(-r*dT) * (p * V[i,j + 1] + q * V[i + 1,j + 1])\n",
    "V"
   ]
  },
  {
   "cell_type": "code",
   "execution_count": 41,
   "id": "8f78e8c2",
   "metadata": {},
   "outputs": [
    {
     "name": "stdout",
     "output_type": "stream",
     "text": [
      "European put 0.14917982165444413\n"
     ]
    }
   ],
   "source": [
    "print('European ' + payoff, str( V[0,0]))"
   ]
  },
  {
   "cell_type": "code",
   "execution_count": 42,
   "id": "769f1595",
   "metadata": {},
   "outputs": [
    {
     "data": {
      "text/plain": [
       "array([[0.1499303 , 0.05499267, 0.        , 0.        ],\n",
       "       [0.        , 0.23013738, 0.10130614, 0.        ],\n",
       "       [0.        , 0.        , 0.33910186, 0.18662367],\n",
       "       [0.        , 0.        , 0.        , 0.46368197]])"
      ]
     },
     "execution_count": 42,
     "metadata": {},
     "output_type": "execute_result"
    }
   ],
   "source": [
    "# for American Option\n",
    "if payoff ==\"call\":\n",
    "    for j in range(N-1, -1, -1):\n",
    "        for i in range(j+1):\n",
    "            V[i,j] = np.maximum(S[i,j] - K,np.exp(-r*dT) * (p * V[i,j + 1] + q * V[i + 1,j + 1]))\n",
    "elif payoff ==\"put\":\n",
    "    for j in range(N-1, -1, -1):\n",
    "        for i in range(j+1):\n",
    "            V[i,j] = np.maximum(K - S[i,j],np.exp(-r*dT) * (p * V[i,j + 1] + q * V[i + 1,j + 1]))\n",
    "V"
   ]
  },
  {
   "cell_type": "code",
   "execution_count": 43,
   "id": "540d3b73",
   "metadata": {},
   "outputs": [
    {
     "name": "stdout",
     "output_type": "stream",
     "text": [
      "American put 0.14993029533496965\n"
     ]
    }
   ],
   "source": [
    "print('American ' + payoff, str( V[0,0]))"
   ]
  },
  {
   "cell_type": "code",
   "execution_count": 44,
   "id": "b13e1e3e",
   "metadata": {},
   "outputs": [],
   "source": [
    "def mcs_simulation_np(p):\n",
    "    M = p\n",
    "    I = p\n",
    "    dt = T / M \n",
    "    S = np.zeros((M + 1, I))\n",
    "    S[0] = S0 \n",
    "    rn = np.random.standard_normal(S.shape) \n",
    "    for t in range(1, M + 1): \n",
    "        S[t] = S[t-1] * np.exp((r - sigma ** 2 / 2) * dt + sigma * np.sqrt(dt) * rn[t]) \n",
    "    return S"
   ]
  },
  {
   "cell_type": "code",
   "execution_count": 45,
   "id": "6f3fa6a2",
   "metadata": {},
   "outputs": [],
   "source": [
    "T = 0.25\n",
    "r = 0.03\n",
    "sigma = 0.7\n",
    "S0 = 1.02\n",
    "K = 1.02"
   ]
  },
  {
   "cell_type": "code",
   "execution_count": 46,
   "id": "5bb521ad",
   "metadata": {},
   "outputs": [],
   "source": [
    "S = mcs_simulation_np(1000)"
   ]
  },
  {
   "cell_type": "code",
   "execution_count": 47,
   "id": "7a0db432",
   "metadata": {},
   "outputs": [
    {
     "data": {
      "text/plain": [
       "array([[1.02      , 1.02423992, 1.04174483, ..., 0.7486213 , 0.75262437,\n",
       "        0.74506978],\n",
       "       [1.02      , 1.01955635, 1.01864662, ..., 1.20516616, 1.22087542,\n",
       "        1.2307275 ],\n",
       "       [1.02      , 1.03840818, 1.05787988, ..., 1.14628158, 1.16478225,\n",
       "        1.14952537],\n",
       "       ...,\n",
       "       [1.02      , 1.0060432 , 1.0121018 , ..., 1.56500084, 1.55191842,\n",
       "        1.55617591],\n",
       "       [1.02      , 1.01543774, 1.01947578, ..., 0.88185391, 0.89190671,\n",
       "        0.87712133],\n",
       "       [1.02      , 1.02436796, 1.01893497, ..., 1.03458907, 1.04165645,\n",
       "        1.0472627 ]])"
      ]
     },
     "execution_count": 47,
     "metadata": {},
     "output_type": "execute_result"
    }
   ],
   "source": [
    "S = np.transpose(S)\n",
    "S"
   ]
  },
  {
   "cell_type": "code",
   "execution_count": 48,
   "id": "d07fa24a",
   "metadata": {},
   "outputs": [
    {
     "data": {
      "text/plain": [
       "Text(0.5, 1.0, 'Frequency distribution of the simulated end-of-preiod values')"
      ]
     },
     "execution_count": 48,
     "metadata": {},
     "output_type": "execute_result"
    },
    {
     "data": {
      "image/png": "[encoded data removed]",
      "text/plain": [
       "<Figure size 640x480 with 1 Axes>"
      ]
     },
     "metadata": {},
     "output_type": "display_data"
    }
   ],
   "source": [
    "import matplotlib.pyplot as plt\n",
    "n, bins, patches = plt.hist(x=S[:,-1], bins='auto', color='#0504aa',alpha=0.7, rwidth=0.85)\n",
    "\n",
    "plt.grid(axis='y', alpha=0.75)\n",
    "plt.xlabel('S_T')\n",
    "plt.ylabel('Frequency')\n",
    "plt.title('Frequency distribution of the simulated end-of-preiod values')"
   ]
  },
  {
   "cell_type": "code",
   "execution_count": 49,
   "id": "e89c9f77",
   "metadata": {},
   "outputs": [
    {
     "name": "stdout",
     "output_type": "stream",
     "text": [
      "European put 0.13889284476229602\n"
     ]
    }
   ],
   "source": [
    "p = np.mean(np.maximum(K - S[:,-1],0))\n",
    "print('European put', str(p))"
   ]
  },
  {
   "cell_type": "code",
   "execution_count": 50,
   "id": "2a39a3c3",
   "metadata": {},
   "outputs": [],
   "source": [
    "import numpy as np\n",
    "import pandas as pd\n",
    "import matplotlib.pyplot as plt\n",
    "import scipy.stats as si\n",
    "from mpl_toolkits.mplot3d import Axes3D"
   ]
  },
  {
   "cell_type": "code",
   "execution_count": 52,
   "id": "d025b63e",
   "metadata": {},
   "outputs": [],
   "source": [
    "def euro_option_bsm(S, K, T, r, q, vol, payoff):\n",
    "    \n",
    "    #S: spot price\n",
    "    #K: strike price\n",
    "    #T: time to maturity\n",
    "    #r: risk free rate\n",
    "    #q: continuous dividend yield\n",
    "    #vol: volatility of underlying asset\n",
    "    #payoff: call or put\n",
    "\n",
    "    d1 = (np.log(S / K) + (r - q + 0.5 * vol ** 2) * T) / (vol * np.sqrt(T))\n",
    "    d2 = (np.log(S / K) + (r - q - 0.5 * vol ** 2) * T) / (vol * np.sqrt(T))\n",
    "    if payoff == \"call\":\n",
    "        option_value = S * np.exp(-q * T) * si.norm.cdf(d1, 0.0, 1.0) - K * np.exp(-r * T) * si.norm.cdf(d2, 0.0, 1.0)\n",
    "    elif payoff == \"put\":\n",
    "        option_value =  - S * np.exp(-q * T) * si.norm.cdf(-d1, 0.0, 1.0) + K * np.exp(-r * T) * si.norm.cdf(-d2, 0.0, 1.0)\n",
    "    \n",
    "    return option_value"
   ]
  },
  {
   "cell_type": "code",
   "execution_count": 53,
   "id": "ea02309a",
   "metadata": {},
   "outputs": [
    {
     "data": {
      "text/plain": [
       "1.5764562151926595e-06"
      ]
     },
     "execution_count": 53,
     "metadata": {},
     "output_type": "execute_result"
    }
   ],
   "source": [
    "euro_option_bsm(0.3, 6.3, 1, 0.03, 0, 0.7, 'call')"
   ]
  },
  {
   "cell_type": "code",
   "execution_count": 54,
   "id": "2a576b20",
   "metadata": {},
   "outputs": [
    {
     "data": {
      "text/plain": [
       "5.813808437811817"
      ]
     },
     "execution_count": 54,
     "metadata": {},
     "output_type": "execute_result"
    }
   ],
   "source": [
    "euro_option_bsm(0.3, 6.3, 1, 0.03, 0, 0.7, 'put')"
   ]
  },
  {
   "cell_type": "code",
   "execution_count": 55,
   "id": "44d22558",
   "metadata": {},
   "outputs": [],
   "source": [
    "S = np.linspace(0.3,6.3,7)\n",
    "Call = np.zeros((len(S),1))\n",
    "Put = np.zeros((len(S),1))\n",
    "for i in range(len(S)):\n",
    "    Call [i] = euro_option_bsm(S[i], 0.3, 1, 0.03, 0, 0.7, 'call')\n",
    "    Put [i] = euro_option_bsm(S[i], 0.3, 1, 0.03, 0, 0.7, 'put')"
   ]
  },
  {
   "cell_type": "code",
   "execution_count": 56,
   "id": "3e73840f",
   "metadata": {},
   "outputs": [
    {
     "data": {
      "text/plain": [
       "<matplotlib.legend.Legend at 0x16aaf4bb970>"
      ]
     },
     "execution_count": 56,
     "metadata": {},
     "output_type": "execute_result"
    },
    {
     "data": {
      "image/png": "[encoded data removed]",
      "text/plain": [
       "<Figure size 640x480 with 1 Axes>"
      ]
     },
     "metadata": {},
     "output_type": "display_data"
    }
   ],
   "source": [
    "fig = plt.figure()\n",
    "plt.plot(S, Call, '-')\n",
    "plt.plot(S, Put, '--')\n",
    "plt.grid()\n",
    "plt.xlabel('Stock Price')\n",
    "plt.ylabel('Option Price')\n",
    "plt.title('European Option')\n",
    "plt.legend(['Call','Put'])"
   ]
  },
  {
   "cell_type": "code",
   "execution_count": 57,
   "id": "cfa971b4",
   "metadata": {},
   "outputs": [],
   "source": [
    "def delta(S, K, T, r, q, vol, payoff):\n",
    "    \n",
    "    d1 = (np.log(S / K) + (r - q + 0.5 * vol ** 2) * T) / (vol * np.sqrt(T))\n",
    "    if payoff == \"call\":\n",
    "        delta = np.exp(-q * T) * si.norm.cdf(d1, 0.0, 1.0)\n",
    "    elif payoff == \"put\":\n",
    "        delta =  - np.exp(-q * T) * si.norm.cdf(-d1, 0.0, 1.0)\n",
    "    \n",
    "    return delta"
   ]
  },
  {
   "cell_type": "code",
   "execution_count": 58,
   "id": "baeb7980",
   "metadata": {},
   "outputs": [],
   "source": [
    "def rho(S, K, T, r, q, vol, payoff):\n",
    "    \n",
    "    d1 = (np.log(S / K) + (r - q + 0.5 * vol ** 2) * T) / (vol * np.sqrt(T))\n",
    "    d2 = (np.log(S / K) + (r - q - 0.5 * vol ** 2) * T) / (vol * np.sqrt(T))\n",
    "    if payoff == \"call\":\n",
    "        rho =  K * T * np.exp(-r * T) * si.norm.cdf(d2, 0.0, 1.0)\n",
    "    elif payoff == \"put\":\n",
    "        rho = - K * T * np.exp(-r * T) * si.norm.cdf(-d2, 0.0, 1.0)\n",
    "    \n",
    "    return rho"
   ]
  },
  {
   "cell_type": "code",
   "execution_count": 59,
   "id": "11fcb3ab",
   "metadata": {},
   "outputs": [
    {
     "data": {
      "text/plain": [
       "9.833806705761989e-06"
      ]
     },
     "execution_count": 59,
     "metadata": {},
     "output_type": "execute_result"
    }
   ],
   "source": [
    "rho(0.3, 6.3, 1, 0.03, 0, 0.7, 'call')"
   ]
  },
  {
   "cell_type": "code",
   "execution_count": 60,
   "id": "3f6550ff",
   "metadata": {},
   "outputs": [
    {
     "data": {
      "text/plain": [
       "-6.1137970275488955"
      ]
     },
     "execution_count": 60,
     "metadata": {},
     "output_type": "execute_result"
    }
   ],
   "source": [
    "rho(0.3, 6.3, 1, 0.03, 0, 0.7, 'put')"
   ]
  },
  {
   "cell_type": "code",
   "execution_count": 61,
   "id": "dd0a2abd",
   "metadata": {},
   "outputs": [],
   "source": [
    "r = np.linspace(0,0.1,11)\n",
    "Rho_Call = np.zeros((len(r),1))\n",
    "Rho_Put = np.zeros((len(r),1))\n",
    "for i in range(len(r)):\n",
    "    Rho_Call [i] = rho(0.3, 6.3, 1, r[i], 0, 0.7, 'call')\n",
    "    Rho_Put [i] = rho(0.3, 6.3, 1, r[i], 0, 0.7, 'put')"
   ]
  },
  {
   "cell_type": "code",
   "execution_count": 62,
   "id": "ac9befc1",
   "metadata": {},
   "outputs": [
    {
     "data": {
      "text/plain": [
       "<matplotlib.legend.Legend at 0x16aaf503d60>"
      ]
     },
     "execution_count": 62,
     "metadata": {},
     "output_type": "execute_result"
    },
    {
     "data": {
      "image/png": "[encoded data removed]",
      "text/plain": [
       "<Figure size 640x480 with 1 Axes>"
      ]
     },
     "metadata": {},
     "output_type": "display_data"
    }
   ],
   "source": [
    "fig = plt.figure()\n",
    "plt.plot(r, Rho_Call, '-')\n",
    "plt.plot(r, Rho_Put, '-')\n",
    "plt.grid()\n",
    "plt.xlabel('Interest Rate')\n",
    "plt.ylabel('Rho')\n",
    "plt.title('Rho')\n",
    "plt.legend(['Rho for Call', 'Rho for Put'])"
   ]
  },
  {
   "cell_type": "code",
   "execution_count": 63,
   "id": "297e5a89",
   "metadata": {},
   "outputs": [],
   "source": [
    "def vega(S, K, T, r, q, vol, payoff):\n",
    "    \n",
    "    d1 = (np.log(S / K) + (r - q + 0.5 * vol ** 2) * T) / (vol * np.sqrt(T))\n",
    "    vega = S * np.sqrt(T) * np.exp(-q * T) * si.norm.pdf(d1, 0.0, 1.0)\n",
    "    \n",
    "    return vega"
   ]
  },
  {
   "cell_type": "code",
   "execution_count": 64,
   "id": "9549bdf7",
   "metadata": {},
   "outputs": [
    {
     "data": {
      "text/plain": [
       "4.77418742935559e-05"
      ]
     },
     "execution_count": 64,
     "metadata": {},
     "output_type": "execute_result"
    }
   ],
   "source": [
    "vega(0.3, 6.3, 1, 0.03, 0, 0.7, 'call')"
   ]
  },
  {
   "cell_type": "code",
   "execution_count": 65,
   "id": "0ffa16ac",
   "metadata": {},
   "outputs": [
    {
     "data": {
      "text/plain": [
       "4.77418742935559e-05"
      ]
     },
     "execution_count": 65,
     "metadata": {},
     "output_type": "execute_result"
    }
   ],
   "source": [
    "vega(0.3, 6.3, 1, 0.03, 0, 0.7, 'put')"
   ]
  },
  {
   "cell_type": "code",
   "execution_count": 66,
   "id": "46e3ed34",
   "metadata": {},
   "outputs": [],
   "source": [
    "vol = np.linspace(0.1,0.4,13)\n",
    "Vega = np.zeros((len(vol),1))\n",
    "for i in range(len(vol)):\n",
    "    Vega [i] = vega(0.3, 6.3, 1, 0.02, 0, vol[i], 'call')"
   ]
  },
  {
   "cell_type": "code",
   "execution_count": 67,
   "id": "25b2162a",
   "metadata": {},
   "outputs": [
    {
     "data": {
      "text/plain": [
       "<matplotlib.legend.Legend at 0x16aaf54ceb0>"
      ]
     },
     "execution_count": 67,
     "metadata": {},
     "output_type": "execute_result"
    },
    {
     "data": {
      "image/png": "[encoded data removed]",
      "text/plain": [
       "<Figure size 640x480 with 1 Axes>"
      ]
     },
     "metadata": {},
     "output_type": "display_data"
    }
   ],
   "source": [
    "fig = plt.figure()\n",
    "plt.plot(vol, Vega, '-')\n",
    "plt.grid()\n",
    "plt.xlabel('Volatility')\n",
    "plt.ylabel('Vega')\n",
    "plt.title('Vega')\n",
    "plt.legend(['Vega for Call and Put'])"
   ]
  },
  {
   "cell_type": "code",
   "execution_count": null,
   "id": "230ecef3",
   "metadata": {},
   "outputs": [],
   "source": []
  }
 ],
 "metadata": {
  "kernelspec": {
   "display_name": "Python 3 (ipykernel)",
   "language": "python",
   "name": "python3"
  },
  "language_info": {
   "codemirror_mode": {
    "name": "ipython",
    "version": 3
   },
   "file_extension": ".py",
   "mimetype": "text/x-python",
   "name": "python",
   "nbconvert_exporter": "python",
   "pygments_lexer": "ipython3",
   "version": "3.9.13"
  }
 },
 "nbformat": 4,
 "nbformat_minor": 5
}
